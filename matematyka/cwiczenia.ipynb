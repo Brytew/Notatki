{
 "cells": [
  {
   "cell_type": "code",
   "execution_count": 13,
   "metadata": {},
   "outputs": [
    {
     "name": "stdout",
     "output_type": "stream",
     "text": [
      "[[5 6 7]\n",
      " [2 4 6]]\n",
      "[[5 5]\n",
      " [6 6]\n",
      " [2 3]]\n"
     ]
    },
    {
     "data": {
      "text/plain": [
       "array([[75, 82],\n",
       "       [46, 52]])"
      ]
     },
     "execution_count": 13,
     "metadata": {},
     "output_type": "execute_result"
    }
   ],
   "source": [
    "#Mnożenie\n",
    "import numpy as np\n",
    "\n",
    "A=np.array([[5,6,7],[2,4,6]])\n",
    "print(A)\n",
    "\n",
    "B=np.array([[5,5],[6,6],[2,3]])\n",
    "print(B)\n",
    "\n",
    "C=np.dot(A,B)\n",
    "C"
   ]
  },
  {
   "cell_type": "code",
   "execution_count": 17,
   "metadata": {},
   "outputs": [
    {
     "data": {
      "text/plain": [
       "array([ 2.44537815, -3.28571429,  1.19327731])"
      ]
     },
     "execution_count": 17,
     "metadata": {},
     "output_type": "execute_result"
    }
   ],
   "source": [
    "#napisz macierzowo i rozwiąż układ równań\n",
    "import numpy as np\n",
    "\n",
    "A = np.array([[2,3,5],[4,-2,-7],[9,5,-3]])\n",
    "B = np.array([1,8,2])\n",
    "\n",
    "solution = np.linalg.solve(A,B)\n",
    "solution\n"
   ]
  }
 ],
 "metadata": {
  "kernelspec": {
   "display_name": "srodowisko",
   "language": "python",
   "name": "python3"
  },
  "language_info": {
   "codemirror_mode": {
    "name": "ipython",
    "version": 3
   },
   "file_extension": ".py",
   "mimetype": "text/x-python",
   "name": "python",
   "nbconvert_exporter": "python",
   "pygments_lexer": "ipython3",
   "version": "3.13.0"
  }
 },
 "nbformat": 4,
 "nbformat_minor": 2
}
