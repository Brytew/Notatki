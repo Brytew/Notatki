{
 "cells": [
  {
   "cell_type": "code",
   "execution_count": 13,
   "metadata": {},
   "outputs": [
    {
     "name": "stdout",
     "output_type": "stream",
     "text": [
      "[[5 6 7]\n",
      " [2 4 6]]\n",
      "[[5 5]\n",
      " [6 6]\n",
      " [2 3]]\n"
     ]
    },
    {
     "data": {
      "text/plain": [
       "array([[75, 82],\n",
       "       [46, 52]])"
      ]
     },
     "execution_count": 13,
     "metadata": {},
     "output_type": "execute_result"
    }
   ],
   "source": [
    "#Mnożenie\n",
    "import numpy as np\n",
    "\n",
    "A=np.array([[5,6,7],[2,4,6]])\n",
    "print(A)\n",
    "\n",
    "B=np.array([[5,5],[6,6],[2,3]])\n",
    "print(B)\n",
    "\n",
    "C=np.dot(A,B)\n",
    "C"
   ]
  },
  {
   "cell_type": "code",
   "execution_count": 17,
   "metadata": {},
   "outputs": [
    {
     "data": {
      "text/plain": [
       "array([ 2.44537815, -3.28571429,  1.19327731])"
      ]
     },
     "execution_count": 17,
     "metadata": {},
     "output_type": "execute_result"
    }
   ],
   "source": [
    "#napisz macierzowo i rozwiąż układ równań\n",
    "import numpy as np\n",
    "\n",
    "A = np.array([[2,3,5],[4,-2,-7],[9,5,-3]])\n",
    "B = np.array([1,8,2])\n",
    "\n",
    "solution = np.linalg.solve(A,B)\n",
    "solution\n"
   ]
  },
  {
   "cell_type": "code",
   "execution_count": 18,
   "metadata": {},
   "outputs": [
    {
     "name": "stdout",
     "output_type": "stream",
     "text": [
      "[[1 3 5]\n",
      " [1 2 3]\n",
      " [1 4 7]]\n",
      "[[24 26  7]\n",
      " [44 48 13]\n",
      " [38 41 11]]\n",
      "[[ 0.  2. -4.]\n",
      " [ 2. -2. -3.]\n",
      " [-4. -3.  1.]]\n",
      "wyznacznik-1.9999999999999993\n",
      "-27.0\n"
     ]
    }
   ],
   "source": [
    "import numpy as np\n",
    "#zadania PWr W.Dudek\n",
    "#1\n",
    "A=np.transpose([[1,1,1],[1,0,2]])\n",
    "B=np.array([[1,2,3],[0,1,2]])\n",
    "C=np.dot(A,B)\n",
    "print(C)\n",
    "#2  (B^T A)^2\n",
    "D=np.array([[1,1,2],[0,2,-1]])\n",
    "E=np.array([[2,3,1],[2,1,0]])\n",
    "F=np.linalg.matrix_power(np.dot(np.transpose(D),E),2)\n",
    "print(F)\n",
    "G=np.array([[0,-1,1],[2,1,-2]])\n",
    "H=np.dot(np.transpose(G),G)-np.dot(4,np.eye(3))\n",
    "print(H)\n",
    "#wyznaczniki zad1\n",
    "J=np.array([[1,1,1],[1,2,3],[2,5,6]])\n",
    "detJ=np.linalg.det(J)\n",
    "print(f'wyznacznik{detJ}')\n",
    "#rozwiniecie laplace\n",
    "K=np.array([[0,4,0,2,0,1],[5,0,1,2,0,6],[4,3,2,1,1,0],[2,0,1,1,0,0],[0,2,0,0,3,0],[0,1,0,0,6,0]])\n",
    "detK=np.linalg.det(K)\n",
    "print(detK)"
   ]
  },
  {
   "cell_type": "code",
   "execution_count": null,
   "metadata": {},
   "outputs": [],
   "source": [
    "#układy rownan przez sympy\n",
    "#W pewnym kurniku mieszkaja kury i szczury. Razem maja one 35 glow i 94 nogi. Ile jest kur, a ile szczurow?\n",
    "\n"
   ]
  }
 ],
 "metadata": {
  "kernelspec": {
   "display_name": "srodowisko",
   "language": "python",
   "name": "python3"
  },
  "language_info": {
   "codemirror_mode": {
    "name": "ipython",
    "version": 3
   },
   "file_extension": ".py",
   "mimetype": "text/x-python",
   "name": "python",
   "nbconvert_exporter": "python",
   "pygments_lexer": "ipython3",
   "version": "3.13.0"
  }
 },
 "nbformat": 4,
 "nbformat_minor": 2
}
