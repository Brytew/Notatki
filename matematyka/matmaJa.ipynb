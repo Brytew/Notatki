{
 "cells": [
  {
   "cell_type": "markdown",
   "metadata": {},
   "source": [
    "Dział 4. Rozkład macierzy"
   ]
  },
  {
   "cell_type": "code",
   "execution_count": null,
   "metadata": {},
   "outputs": [],
   "source": [
    "#funkcje z rozdziału 4.:\n",
    "#forma zapisu macierzy macierz = np.array([[2, 2, 3], [4, 5, 6], [7, 8, 9]])\n",
    "#     detA= np.linalg.det(macierz)   -wyznacznik\n",
    "#     odwrotnaMacierz = np.linalg.inv(macierz)    -odwrócona macierz\n",
    "#     ślad macierzy = np.trace(macierz))\n"
   ]
  },
  {
   "cell_type": "code",
   "execution_count": 17,
   "metadata": {},
   "outputs": [
    {
     "name": "stdout",
     "output_type": "stream",
     "text": [
      "[[2 2 3]\n",
      " [4 5 6]\n",
      " [7 8 9]]\n",
      "Wyznacznik: -3.0000000000000018\n",
      "[[ 1.         -2.          1.        ]\n",
      " [-2.          1.          0.        ]\n",
      " [ 1.          0.66666667 -0.66666667]]\n",
      "ślad: 16\n"
     ]
    }
   ],
   "source": [
    "import numpy as np\n",
    "#ad 1. odwrotność macierzy\n",
    "\n",
    "#zmienne\n",
    "A = np.array([[4,4],[2,-4]])\n",
    "B = np.array([5,1])\n",
    "\n",
    "#funkcja:  cc = np.linalg.inv(macierz)\n",
    "macierz = np.array([[2, 2, 3], [4, 5, 6], [7, 8, 9]])\n",
    "print(macierz)\n",
    "\n",
    "# Wyznacznik\n",
    "detA= np.linalg.det(macierz)\n",
    "print(f'Wyznacznik: {detA}')\n",
    "\n",
    "#odwrotność\n",
    "odwrotnaMacierz = np.linalg.inv(macierz)\n",
    "print(odwrotnaMacierz)\n",
    "#Macierz odwracalna (wyzn rozny od zera)(macierz nieosobliwa) = brak ukrytych zależności między kolumnami i wierszami\n",
    "\n",
    "#ślad\n",
    "slad = np.trace(macierz)\n",
    "print(f'ślad: {slad}')\n",
    "\n",
    "\n",
    "\n"
   ]
  },
  {
   "cell_type": "code",
   "execution_count": 16,
   "metadata": {},
   "outputs": [
    {
     "name": "stdout",
     "output_type": "stream",
     "text": [
      "dodawanie[[ 9  5]\n",
      " [ 7 -3]]\n",
      "mnożenie[24  6]\n",
      "wynik rozwiazania ukladu rownan[1.   0.25]\n",
      "[[ 4  2]\n",
      " [ 4 -4]]\n",
      "[[ 4  4]\n",
      " [ 2 -4]]\n"
     ]
    }
   ],
   "source": [
    "#fundamentalne\n",
    "import numpy as np\n",
    "\n",
    "A = np.array([[4,4],[2,-4]])\n",
    "B = np.array([5,1])\n",
    "\n",
    "C = np.array([[1, 2], [3, 4]])\n",
    "D = np.array([[5, 6], [7, 8]])\n",
    "\n",
    "#Dodawanie macierzy\n",
    "dodawanie= A+B\n",
    "print(f'dodawanie{dodawanie}')\n",
    "\n",
    "#Mnożenie macierzy\n",
    "mnozenie = np.dot(A,B)\n",
    "print(f'mnożenie{mnozenie}')\n",
    "\n",
    "#rozwiązanie układu równań Ax=b (zadanie w pkt 2)\n",
    "solution = np.linalg.solve(A,B)\n",
    "print(f'wynik rozwiazania ukladu rownan{solution}')\n",
    "\n",
    "#tranpozycja\n",
    "transpozycja = np.transpose(A)\n",
    "print(transpozycja)\n",
    "\n",
    "#Mnożenie przez skalar - k=5 C=k*A\n"
   ]
  },
  {
   "cell_type": "markdown",
   "metadata": {},
   "source": [
    "TEORIA:"
   ]
  },
  {
   "cell_type": "markdown",
   "metadata": {},
   "source": [
    "4.1 Wyznacznik   \n",
    "Tylko dla macierzy kwadratowych.\n",
    "Co mówi wyznacznik\n",
    "- Czy macierz jest odwracalna (czyli czy istnieje macierz odwrotna) \n",
    "- Czy układ równań liniowych ma jednoznaczne rozwiązanie $\\text{det}(A) \\neq 0$. \n",
    "- Jakie zmiany zachodzą w objętości i orientacji przestrzeni po przekształceniu liniowym.\n",
    "-nieopisane Czy kolumny (lub wiersze) macierzy są liniowo niezależne.\n",
    "-nieopisane Objawia stabilność układów numerycznych i analiz geometrycznych.\n",
    "\n",
    "Ad5. W analizie numerycznej wyznacznik może mieć znaczenie przy badaniu stabilności obliczeń. Układy z wyznacznikiem bliskim zera mogą być niestabilne, ponieważ macierz jest bliska bycia osobliwą, co oznacza, że nawet małe zmiany w danych wejściowych mogą prowadzić do dużych zmian w wynikach."
   ]
  },
  {
   "cell_type": "markdown",
   "metadata": {},
   "source": [
    "4.1.1 odwrotność macierzy\n",
    "\n",
    "$A \\cdot A^{-1} = A^{-1} \\cdot A = I$    \n",
    "I to macierz jednostkowa, elementy na glownej przekątnej =1 \n",
    "\n",
    "Jeżeli istnieje odwrotność, czyli $\\text{det}(A) \\neq 0$ \n",
    "\n",
    "to brak ukrytych zależności między kolumnami i wierszami.\n",
    "\n",
    "oraz dla pkt. 4.1.2 - mamcierz odwracalne ma KONKRETNE rozwiązanie"
   ]
  },
  {
   "cell_type": "markdown",
   "metadata": {},
   "source": [
    "4.1.2 Da się obliczyć objętność objętość równoległościanu\n",
    "r=np.array([[2],[0],[-8]]\n",
    "g=np.array([[6],[1],[0]]\n",
    "b=np.array([[1],[4],[-1]]\n",
    "\n",
    "da się zapisać całość jako $\\begin{bmatrix}\n",
    "2 & 6 & 1 \\\\\n",
    "0 & 1 & 4 \\\\\n",
    "-8 & 0 & -1\n",
    "\\end{bmatrix}$\n",
    "\n",
    "wyznacznik V = $|\\det(\\mathbf{A})| = 186$\n"
   ]
  },
  {
   "cell_type": "markdown",
   "metadata": {},
   "source": [
    "4.2 ślad macierzy\n",
    "Tr(A) = suma wszystkich elementów, które znajdują się na przekątnej od lewej górnej do prawej dolnej.\n",
    "\n",
    "Wykorzystywany do optymalizacji w rachunku różniczkowym macierzy do obliczeń gradientów\n",
    "\n",
    "4.3 rozwinięcie La placa - do ręcznego wyliczania wyznaczników\n",
    "\n",
    "4.4 Twierdzenie Cramera\n",
    "Tylko dla: liczba niewiadomych = liczba równań\n",
    "Służy do wyliczania niewiadomych\n",
    "\n",
    "4.5 wielomian charakterystyczny\n",
    "\n",
    "4.2. Wartości i wektory własne\n",
    "\n",
    "\n",
    "\n",
    "\n"
   ]
  },
  {
   "cell_type": "markdown",
   "metadata": {},
   "source": [
    "Rozdział 2.\n",
    "\n",
    "Algebra liniowa-nauka o wektorach i pewnych regułach ich przekształcenia. Wektory mogą być stukturami geometycznymi(strzałki)i wielomianami.\n",
    "\n",
    "#zadanie 1. Rozwiąż układów równań\n",
    "#4𝑥1 + 4𝑥2 = 5\n",
    "#2𝑥1 − 4𝑥2 = 1\n",
    "import numpy as np\n",
    "A = np.array([[4,4],[2,-4]])\n",
    "B = np.array([5,1])\n",
    "solution = np.linalg.solve(A,B)\n",
    "solution\n",
    "\n",
    ">Dodawanie macierzy\n",
    "C=A+B\n",
    "\n",
    ">Mnożenie macierzy, warunek ilości kolumn i wierszy:  nxk * kxm = nxm\n",
    "mnozenie = np.dot(A,B)\n",
    "\n",
    ">macierz odwrotna-to taka, która po pomnożeniu przez macierz wyjściową daje macierz jednostkową A * A^(-1) = I\n",
    "\n",
    ">Transpozycja macierzy-operacja polega na zamianie wierszy macierzy na kolumny i kolumny na wiersze np.transpose(A)\n",
    "\n",
    ">Mnożenie przez skalar \n",
    "\n"
   ]
  }
 ],
 "metadata": {
  "kernelspec": {
   "display_name": "srodowisko",
   "language": "python",
   "name": "python3"
  },
  "language_info": {
   "codemirror_mode": {
    "name": "ipython",
    "version": 3
   },
   "file_extension": ".py",
   "mimetype": "text/x-python",
   "name": "python",
   "nbconvert_exporter": "python",
   "pygments_lexer": "ipython3",
   "version": "3.13.0"
  }
 },
 "nbformat": 4,
 "nbformat_minor": 2
}
