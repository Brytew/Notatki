{
 "cells": [
  {
   "cell_type": "code",
   "execution_count": null,
   "metadata": {},
   "outputs": [],
   "source": [
    "import pandas as pd\n",
    "df_groupped = df.groupby('bike_number')['end_time'].max().to_frame('last_used').reset_index().sort_values(by='last_used', ascending=False)"
   ]
  },
  {
   "cell_type": "code",
   "execution_count": null,
   "metadata": {},
   "outputs": [],
   "source": [
    "#z danego sektora, na danym kontynencie, max profit  //odwołania, rank\n",
    "import pandas as pd\n",
    "#forbes=[1,2,3]\n",
    "#df=pd.DataFrame(forbes)\n",
    "df_sector = df[df['sector']=='Financials']\n",
    "#df_copy=df_sector.copy()\n",
    "df_copy['rank'] = df_copy['profits'].rank(ascending=False)\n",
    "result=df_copy[df_copy['rank'] == 1][['company','continent']] #pojedyńcze []-Series, [[]]-dataFrame"
   ]
  }
 ],
 "metadata": {
  "kernelspec": {
   "display_name": "srodowisko",
   "language": "python",
   "name": "python3"
  },
  "language_info": {
   "codemirror_mode": {
    "name": "ipython",
    "version": 3
   },
   "file_extension": ".py",
   "mimetype": "text/x-python",
   "name": "python",
   "nbconvert_exporter": "python",
   "pygments_lexer": "ipython3",
   "version": "3.13.0"
  }
 },
 "nbformat": 4,
 "nbformat_minor": 2
}
