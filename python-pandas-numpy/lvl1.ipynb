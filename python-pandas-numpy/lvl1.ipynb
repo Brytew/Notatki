{
 "cells": [
  {
   "cell_type": "markdown",
   "metadata": {},
   "source": [
    "Krótkie notatki, rozwiązania które chciałbym zatrzymać"
   ]
  },
  {
   "cell_type": "markdown",
   "metadata": {},
   "source": [
    "Podwójne: najpierw środek-obiekt Series wartości: True/False. Potem z zewnątrz df oscar_nominees filtruje te wiersze, które mają True\n",
    "nominee = oscar_nominees[oscar_nominees['nominee'] == 'Abigail Breslin']\n",
    "\n",
    "Można przypisać maskę logiczną\n",
    "mask = oscar_nominees['nominee'] == 'Abigail Breslin'\n",
    "nominee = oscar_nominees[mask]\n",
    "\n",
    "może być bardziej skomplikowana:\n",
    "mask = (oscar_nominees['nominee'] == 'Abigail Breslin') & (oscar_nominees['year'] == 2006)\n",
    "\n",
    "Series,bo: type(oscar_nominees['nominee'])\n"
   ]
  },
  {
   "cell_type": "markdown",
   "metadata": {},
   "source": []
  }
 ],
 "metadata": {
  "kernelspec": {
   "display_name": "srodowisko",
   "language": "python",
   "name": "python3"
  },
  "language_info": {
   "name": "python",
   "version": "3.13.0"
  }
 },
 "nbformat": 4,
 "nbformat_minor": 2
}
